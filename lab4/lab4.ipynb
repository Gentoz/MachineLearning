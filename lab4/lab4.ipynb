{
 "cells": [
  {
   "cell_type": "code",
   "execution_count": 3,
   "id": "4c6eddb7",
   "metadata": {},
   "outputs": [
    {
     "name": "stdout",
     "output_type": "stream",
     "text": [
      "Информация о данных:\n",
      "Количество строк: 33725\n",
      "Количество столбцов: 32\n",
      "\n",
      "Типы данных по столбцам:\n",
      "hotel                              object\n",
      "is_canceled                         int64\n",
      "lead_time                           int64\n",
      "arrival_date_year                   int64\n",
      "arrival_date_month                 object\n",
      "arrival_date_week_number            int64\n",
      "arrival_date_day_of_month           int64\n",
      "stays_in_weekend_nights             int64\n",
      "stays_in_week_nights                int64\n",
      "adults                              int64\n",
      "children                            int64\n",
      "babies                              int64\n",
      "meal                               object\n",
      "country                            object\n",
      "market_segment                     object\n",
      "distribution_channel               object\n",
      "is_repeated_guest                   int64\n",
      "previous_cancellations              int64\n",
      "previous_bookings_not_canceled      int64\n",
      "reserved_room_type                 object\n",
      "assigned_room_type                 object\n",
      "booking_changes                     int64\n",
      "deposit_type                       object\n",
      "agent                             float64\n",
      "company                           float64\n",
      "days_in_waiting_list                int64\n",
      "customer_type                      object\n",
      "adr                               float64\n",
      "required_car_parking_spaces         int64\n",
      "total_of_special_requests           int64\n",
      "reservation_status                 object\n",
      "reservation_status_date            object\n",
      "dtype: object\n"
     ]
    }
   ],
   "source": [
    "import pandas as pd\n",
    "import numpy as np\n",
    "from sklearn.model_selection import train_test_split, cross_val_score\n",
    "from sklearn.preprocessing import LabelEncoder\n",
    "from sklearn.naive_bayes import GaussianNB\n",
    "from sklearn.metrics import accuracy_score, classification_report\n",
    "from sklearn.preprocessing import StandardScaler\n",
    "\n",
    "# Считывание данных\n",
    "df = pd.read_csv('data.csv')\n",
    "\n",
    "# Вывод информации о данных\n",
    "print(\"Информация о данных:\")\n",
    "print(f\"Количество строк: {df.shape[0]}\")\n",
    "print(f\"Количество столбцов: {df.shape[1]}\")\n",
    "print(\"\\nТипы данных по столбцам:\")\n",
    "print(df.dtypes)"
   ]
  },
  {
   "cell_type": "code",
   "execution_count": 6,
   "id": "b98fe950",
   "metadata": {},
   "outputs": [
    {
     "name": "stdout",
     "output_type": "stream",
     "text": [
      "Точность: 0.9825055596738325\n",
      "              precision    recall  f1-score   support\n",
      "\n",
      "           0       1.00      0.97      0.99      4486\n",
      "           1       0.95      1.00      0.97      2259\n",
      "\n",
      "    accuracy                           0.98      6745\n",
      "   macro avg       0.98      0.99      0.98      6745\n",
      "weighted avg       0.98      0.98      0.98      6745\n",
      "\n"
     ]
    }
   ],
   "source": [
    "# Определение целевой переменной и признаков\n",
    "X = df.drop('is_canceled', axis=1)\n",
    "y = df['is_canceled']\n",
    "\n",
    "# Преобразование категориальных признаков в числовые\n",
    "label_encoder = LabelEncoder()\n",
    "for column in X.columns:\n",
    "    if X[column].dtype == 'object':\n",
    "        X[column] = label_encoder.fit_transform(X[column])\n",
    "        \n",
    "# Разделение данных на обучающий и тестовый наборы\n",
    "X_train, X_test, y_train, y_test = train_test_split(X, y, test_size=0.2, random_state=42)\n",
    "\n",
    "# Замена отсутсвующих и бесконечных значений на ноль\n",
    "X_train = X_train.replace((np.inf, -np.inf, np.nan), 0).reset_index(drop=True)\n",
    "X_test = X_test.replace((np.inf, -np.inf, np.nan), 0).reset_index(drop=True)\n",
    "\n",
    "# Масштабирование признаков\n",
    "scaler = StandardScaler()\n",
    "X_train_scaled = scaler.fit_transform(X_train)\n",
    "X_test_scaled = scaler.transform(X_test)\n",
    "\n",
    "# Инициализация модели наивного Байеса\n",
    "nb = GaussianNB()\n",
    "\n",
    "# Обучение модели на обучающем наборе данных\n",
    "nb.fit(X_train_scaled, y_train)\n",
    "\n",
    "# Предсказание на тестовых данных\n",
    "predictions = nb.predict(X_test_scaled)\n",
    "\n",
    "# Оценка качества модели на тестовом наборе\n",
    "accuracy = accuracy_score(y_test, predictions)\n",
    "print(f'Точность: {accuracy}')\n",
    "\n",
    "# Вывод отчета о классификации\n",
    "print(classification_report(y_test, predictions))"
   ]
  }
 ],
 "metadata": {
  "kernelspec": {
   "display_name": "Python 3 (ipykernel)",
   "language": "python",
   "name": "python3"
  },
  "language_info": {
   "codemirror_mode": {
    "name": "ipython",
    "version": 3
   },
   "file_extension": ".py",
   "mimetype": "text/x-python",
   "name": "python",
   "nbconvert_exporter": "python",
   "pygments_lexer": "ipython3",
   "version": "3.11.5"
  }
 },
 "nbformat": 4,
 "nbformat_minor": 5
}
